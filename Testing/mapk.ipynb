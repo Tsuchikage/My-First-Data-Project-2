{
 "cells": [
  {
   "cell_type": "code",
   "execution_count": 1,
   "metadata": {},
   "outputs": [],
   "source": [
    "import pandas as pd\n",
    "import numpy as np\n",
    "from implicit.evaluation import train_test_split\n",
    "from surprise.model_selection import train_test_split\n",
    "from tqdm import tqdm\n",
    "from src.mapk import *\n",
    "from sklearn.model_selection import train_test_split\n",
    "\n",
    "\n"
   ]
  },
  {
   "attachments": {},
   "cell_type": "markdown",
   "metadata": {},
   "source": [
    "#Data Preprocessing"
   ]
  },
  {
   "cell_type": "code",
   "execution_count": 2,
   "metadata": {},
   "outputs": [],
   "source": [
    "# Файлы\n",
    "INPUT_DIR = 'C:/Dataset'"
   ]
  },
  {
   "cell_type": "code",
   "execution_count": 3,
   "metadata": {},
   "outputs": [],
   "source": [
    "# Чтение файлов\n",
    "anime_data = pd.read_csv(INPUT_DIR + '/movieData.csv',\n",
    "                        low_memory=False,\n",
    "                        decimal=',',\n",
    "                        usecols=[\"movie_id\", \"Name\"]\n",
    "                        )\n",
    "anime_ratings = pd.read_csv(INPUT_DIR + '/movieRatings.csv',\n",
    "                        low_memory=False,\n",
    "                        decimal=',',\n",
    "                        usecols=[\"user_id\", \"movie_id\",\"rating\"]\n",
    "                        ).astype({'rating': 'float32'})"
   ]
  },
  {
   "cell_type": "code",
   "execution_count": 4,
   "metadata": {},
   "outputs": [
    {
     "name": "stdout",
     "output_type": "stream",
     "text": [
      "Размер train_ratings: 51627\n",
      "Размер val_ratings: 16134\n",
      "Размер test_ratings: 20168\n",
      "Размер leftovers: 12907\n"
     ]
    }
   ],
   "source": [
    "# (80% train, 20% test)\n",
    "train_ratings, test_ratings = train_test_split(anime_ratings, test_size=0.2, random_state=42)\n",
    "\n",
    "# (60% train, 20% validation)\n",
    "train_ratings, val_ratings = train_test_split(train_ratings, test_size=0.2, random_state=42)\n",
    "\n",
    "# (60% train, 20% leftovers)\n",
    "train_ratings, leftovers_ratings = train_test_split(train_ratings, test_size=0.2, random_state=42)\n",
    "\n",
    "print(f\"Размер train_ratings: {len(train_ratings)}\")\n",
    "print(f\"Размер val_ratings: {len(val_ratings)}\")\n",
    "print(f\"Размер test_ratings: {len(test_ratings)}\")\n",
    "print(f\"Размер leftovers: {len(leftovers_ratings)}\")"
   ]
  },
  {
   "cell_type": "code",
   "execution_count": 5,
   "metadata": {},
   "outputs": [],
   "source": [
    "# Заполнение пропущенных значений\n",
    "train_ratings.fillna(0, inplace=True)\n",
    "val_ratings.fillna(0, inplace=True)\n",
    "test_ratings.fillna(0, inplace=True)"
   ]
  },
  {
   "cell_type": "code",
   "execution_count": 6,
   "metadata": {},
   "outputs": [],
   "source": [
    "# Кодирование категориальных признаков\n",
    "user_ids = test_ratings.user_id.drop_duplicates().values\n",
    "anime_ids = test_ratings.movie_id.drop_duplicates().values\n",
    "\n",
    "test_ratings['user_id'] = test_ratings['user_id'].astype('category').cat.codes\n",
    "test_ratings['movie_id'] = test_ratings['movie_id'].astype('category').cat.codes\n"
   ]
  },
  {
   "cell_type": "code",
   "execution_count": 7,
   "metadata": {},
   "outputs": [
    {
     "data": {
      "text/plain": [
       "19993"
      ]
     },
     "execution_count": 7,
     "metadata": {},
     "output_type": "execute_result"
    }
   ],
   "source": [
    "n_ratings = test_ratings['user_id'].value_counts()\n",
    "test_ratings = test_ratings[test_ratings['user_id'].isin(n_ratings[n_ratings >= 5].index)].copy()\n",
    "len(test_ratings)"
   ]
  },
  {
   "attachments": {},
   "cell_type": "markdown",
   "metadata": {},
   "source": [
    "Test Dataset"
   ]
  },
  {
   "cell_type": "code",
   "execution_count": 8,
   "metadata": {},
   "outputs": [],
   "source": [
    "# Удаление дубликатов\n",
    "test_ratings.drop_duplicates(subset=['user_id', 'movie_id'], inplace=True)"
   ]
  },
  {
   "cell_type": "code",
   "execution_count": 9,
   "metadata": {},
   "outputs": [],
   "source": [
    "# Разложение матрицы\n",
    "k = 50\n",
    "max_epochs = 50\n",
    "gamma = 0.01\n",
    "lamda = 0.1\n",
    "\n",
    "P = np.random.rand(len(user_ids), k)\n",
    "Q = np.random.rand(len(anime_ids), k)\n",
    "\n",
    "for epoch in range(max_epochs):\n",
    "    for i, j, r in zip(test_ratings['user_id'], test_ratings['movie_id'], test_ratings['rating']):\n",
    "        error = r - np.dot(P[i, :], Q[j, :].T)\n",
    "        P[i, :] += gamma * (error * Q[j, :] - lamda * P[i, :])\n",
    "        Q[j, :] += gamma * (error * P[i, :] - lamda * Q[j, :])\n",
    "    \n",
    "    # Получаем предсказанные оценки для неоцененных аниме\n",
    "    predicted_ratings = np.dot(P, Q.T)\n",
    "    predicted_ratings"
   ]
  },
  {
   "cell_type": "code",
   "execution_count": 10,
   "metadata": {},
   "outputs": [
    {
     "name": "stderr",
     "output_type": "stream",
     "text": [
      "100%|██████████| 610/610 [00:00<00:00, 3092.44it/s]\n"
     ]
    }
   ],
   "source": [
    "# Получаем топ 10 рекомендаций для каждого пользователя\n",
    "top_n = 10\n",
    "recommendations = {}\n",
    "for i in tqdm(range(len(user_ids))):\n",
    "    top_anime_idx = np.argsort(predicted_ratings[i, :])[::-1][:top_n]\n",
    "    top_anime_ids = [anime_ids[anime_idx] for anime_idx in top_anime_idx]\n",
    "    recommendations[user_ids[i]] = top_anime_ids"
   ]
  },
  {
   "cell_type": "code",
   "execution_count": 11,
   "metadata": {},
   "outputs": [],
   "source": [
    "# Получаем фактические оценки аниме для каждого пользователя\n",
    "actual_ratings = {}\n",
    "for i in range(len(user_ids)):\n",
    "    user_df = test_ratings[test_ratings['user_id'] == i]\n",
    "    rated_anime = list(user_df['movie_id'].values)\n",
    "    rating_scores = list(user_df['rating'].values)\n",
    "    actual_ratings[user_ids[i]] = dict(zip(rated_anime, rating_scores))\n"
   ]
  },
  {
   "cell_type": "code",
   "execution_count": 12,
   "metadata": {},
   "outputs": [],
   "source": [
    "def mapk(actual, predicted, k=10):\n",
    "    \"\"\"\n",
    "    Mean Average Precision at K\n",
    "    \"\"\"\n",
    "    mapk_scores = []\n",
    "    for user in actual:\n",
    "        actual_anime = list(actual[user].keys())\n",
    "        predicted_anime = predicted[user]\n",
    "        predicted_anime = [anime for anime in predicted_anime if anime in actual_anime]\n",
    "        \n",
    "        if len(predicted_anime) == 0:\n",
    "            continue\n",
    "        \n",
    "        predicted_anime = predicted_anime[:k]\n",
    "        score = 0.0\n",
    "        num_hits = 0.0\n",
    "        for i, p in enumerate(predicted_anime):\n",
    "            if p in actual_anime:\n",
    "                num_hits += 1\n",
    "                score += num_hits / (i+1)\n",
    "        if num_hits > 0:\n",
    "            score /= min(len(actual_anime), k)\n",
    "            mapk_scores.append(score)\n",
    "    return np.mean(mapk_scores)"
   ]
  },
  {
   "cell_type": "code",
   "execution_count": 13,
   "metadata": {},
   "outputs": [
    {
     "name": "stdout",
     "output_type": "stream",
     "text": [
      "Mean MAPK@10 score: 0.1071\n"
     ]
    }
   ],
   "source": [
    "mapk_score = mapk(actual_ratings, recommendations, k=10)\n",
    "print(f\"Mean MAPK@10 score: {mapk_score:.4f}\")"
   ]
  },
  {
   "attachments": {},
   "cell_type": "markdown",
   "metadata": {},
   "source": [
    "-------------"
   ]
  },
  {
   "cell_type": "code",
   "execution_count": null,
   "metadata": {},
   "outputs": [],
   "source": []
  }
 ],
 "metadata": {
  "kernelspec": {
   "display_name": "base",
   "language": "python",
   "name": "python3"
  },
  "language_info": {
   "codemirror_mode": {
    "name": "ipython",
    "version": 3
   },
   "file_extension": ".py",
   "mimetype": "text/x-python",
   "name": "python",
   "nbconvert_exporter": "python",
   "pygments_lexer": "ipython3",
   "version": "3.10.9"
  },
  "orig_nbformat": 4
 },
 "nbformat": 4,
 "nbformat_minor": 2
}
